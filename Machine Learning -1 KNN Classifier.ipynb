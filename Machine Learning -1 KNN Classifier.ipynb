{
 "cells": [
  {
   "cell_type": "markdown",
   "metadata": {},
   "source": [
    "## Importing Libraries"
   ]
  },
  {
   "cell_type": "code",
   "execution_count": 11,
   "metadata": {},
   "outputs": [],
   "source": [
    "import pandas as pd\n",
    "import numpy as np\n",
    "import matplotlib.pyplot as plt\n",
    "from sklearn.model_selection import train_test_split  # for splitting the dataset\n",
    "from sklearn.metrics import confusion_matrix\n",
    "from sklearn.neighbors import KNeighborsClassifier"
   ]
  },
  {
   "cell_type": "code",
   "execution_count": 12,
   "metadata": {},
   "outputs": [],
   "source": [
    "dataset1=pd.read_csv(\"OnlineNewsPopularity.csv\")"
   ]
  },
  {
   "cell_type": "code",
   "execution_count": 41,
   "metadata": {},
   "outputs": [
    {
     "data": {
      "text/plain": [
       "1400.0"
      ]
     },
     "execution_count": 41,
     "metadata": {},
     "output_type": "execute_result"
    }
   ],
   "source": [
    "np.median(dataset1['shares'])"
   ]
  },
  {
   "cell_type": "code",
   "execution_count": 14,
   "metadata": {},
   "outputs": [],
   "source": [
    "dataset1['popularity'] = ['popular' if x >= 1400 else 'unpopular' for x in dataset1['shares']]"
   ]
  },
  {
   "cell_type": "code",
   "execution_count": 43,
   "metadata": {},
   "outputs": [
    {
     "data": {
      "text/plain": [
       "(39644, 62)"
      ]
     },
     "execution_count": 43,
     "metadata": {},
     "output_type": "execute_result"
    }
   ],
   "source": [
    "dataset1.shape"
   ]
  },
  {
   "cell_type": "code",
   "execution_count": 15,
   "metadata": {},
   "outputs": [
    {
     "data": {
      "text/html": [
       "<div>\n",
       "<style scoped>\n",
       "    .dataframe tbody tr th:only-of-type {\n",
       "        vertical-align: middle;\n",
       "    }\n",
       "\n",
       "    .dataframe tbody tr th {\n",
       "        vertical-align: top;\n",
       "    }\n",
       "\n",
       "    .dataframe thead th {\n",
       "        text-align: right;\n",
       "    }\n",
       "</style>\n",
       "<table border=\"1\" class=\"dataframe\">\n",
       "  <thead>\n",
       "    <tr style=\"text-align: right;\">\n",
       "      <th></th>\n",
       "      <th>url</th>\n",
       "      <th>timedelta</th>\n",
       "      <th>n_tokens_title</th>\n",
       "      <th>n_tokens_content</th>\n",
       "      <th>n_unique_tokens</th>\n",
       "      <th>n_non_stop_words</th>\n",
       "      <th>n_non_stop_unique_tokens</th>\n",
       "      <th>num_hrefs</th>\n",
       "      <th>num_self_hrefs</th>\n",
       "      <th>num_imgs</th>\n",
       "      <th>...</th>\n",
       "      <th>max_positive_polarity</th>\n",
       "      <th>avg_negative_polarity</th>\n",
       "      <th>min_negative_polarity</th>\n",
       "      <th>max_negative_polarity</th>\n",
       "      <th>title_subjectivity</th>\n",
       "      <th>title_sentiment_polarity</th>\n",
       "      <th>abs_title_subjectivity</th>\n",
       "      <th>abs_title_sentiment_polarity</th>\n",
       "      <th>shares</th>\n",
       "      <th>popularity</th>\n",
       "    </tr>\n",
       "  </thead>\n",
       "  <tbody>\n",
       "    <tr>\n",
       "      <th>0</th>\n",
       "      <td>http://mashable.com/2013/01/07/amazon-instant-...</td>\n",
       "      <td>731</td>\n",
       "      <td>12</td>\n",
       "      <td>219</td>\n",
       "      <td>0.663594</td>\n",
       "      <td>1.0</td>\n",
       "      <td>0.815385</td>\n",
       "      <td>4</td>\n",
       "      <td>2</td>\n",
       "      <td>1</td>\n",
       "      <td>...</td>\n",
       "      <td>0.7</td>\n",
       "      <td>-0.350000</td>\n",
       "      <td>-0.600</td>\n",
       "      <td>-0.200000</td>\n",
       "      <td>0.500000</td>\n",
       "      <td>-0.187500</td>\n",
       "      <td>0.000000</td>\n",
       "      <td>0.187500</td>\n",
       "      <td>593</td>\n",
       "      <td>unpopular</td>\n",
       "    </tr>\n",
       "    <tr>\n",
       "      <th>1</th>\n",
       "      <td>http://mashable.com/2013/01/07/ap-samsung-spon...</td>\n",
       "      <td>731</td>\n",
       "      <td>9</td>\n",
       "      <td>255</td>\n",
       "      <td>0.604743</td>\n",
       "      <td>1.0</td>\n",
       "      <td>0.791946</td>\n",
       "      <td>3</td>\n",
       "      <td>1</td>\n",
       "      <td>1</td>\n",
       "      <td>...</td>\n",
       "      <td>0.7</td>\n",
       "      <td>-0.118750</td>\n",
       "      <td>-0.125</td>\n",
       "      <td>-0.100000</td>\n",
       "      <td>0.000000</td>\n",
       "      <td>0.000000</td>\n",
       "      <td>0.500000</td>\n",
       "      <td>0.000000</td>\n",
       "      <td>711</td>\n",
       "      <td>unpopular</td>\n",
       "    </tr>\n",
       "    <tr>\n",
       "      <th>2</th>\n",
       "      <td>http://mashable.com/2013/01/07/apple-40-billio...</td>\n",
       "      <td>731</td>\n",
       "      <td>9</td>\n",
       "      <td>211</td>\n",
       "      <td>0.575130</td>\n",
       "      <td>1.0</td>\n",
       "      <td>0.663866</td>\n",
       "      <td>3</td>\n",
       "      <td>1</td>\n",
       "      <td>1</td>\n",
       "      <td>...</td>\n",
       "      <td>1.0</td>\n",
       "      <td>-0.466667</td>\n",
       "      <td>-0.800</td>\n",
       "      <td>-0.133333</td>\n",
       "      <td>0.000000</td>\n",
       "      <td>0.000000</td>\n",
       "      <td>0.500000</td>\n",
       "      <td>0.000000</td>\n",
       "      <td>1500</td>\n",
       "      <td>popular</td>\n",
       "    </tr>\n",
       "    <tr>\n",
       "      <th>3</th>\n",
       "      <td>http://mashable.com/2013/01/07/astronaut-notre...</td>\n",
       "      <td>731</td>\n",
       "      <td>9</td>\n",
       "      <td>531</td>\n",
       "      <td>0.503788</td>\n",
       "      <td>1.0</td>\n",
       "      <td>0.665635</td>\n",
       "      <td>9</td>\n",
       "      <td>0</td>\n",
       "      <td>1</td>\n",
       "      <td>...</td>\n",
       "      <td>0.8</td>\n",
       "      <td>-0.369697</td>\n",
       "      <td>-0.600</td>\n",
       "      <td>-0.166667</td>\n",
       "      <td>0.000000</td>\n",
       "      <td>0.000000</td>\n",
       "      <td>0.500000</td>\n",
       "      <td>0.000000</td>\n",
       "      <td>1200</td>\n",
       "      <td>unpopular</td>\n",
       "    </tr>\n",
       "    <tr>\n",
       "      <th>4</th>\n",
       "      <td>http://mashable.com/2013/01/07/att-u-verse-apps/</td>\n",
       "      <td>731</td>\n",
       "      <td>13</td>\n",
       "      <td>1072</td>\n",
       "      <td>0.415646</td>\n",
       "      <td>1.0</td>\n",
       "      <td>0.540890</td>\n",
       "      <td>19</td>\n",
       "      <td>19</td>\n",
       "      <td>20</td>\n",
       "      <td>...</td>\n",
       "      <td>1.0</td>\n",
       "      <td>-0.220192</td>\n",
       "      <td>-0.500</td>\n",
       "      <td>-0.050000</td>\n",
       "      <td>0.454545</td>\n",
       "      <td>0.136364</td>\n",
       "      <td>0.045455</td>\n",
       "      <td>0.136364</td>\n",
       "      <td>505</td>\n",
       "      <td>unpopular</td>\n",
       "    </tr>\n",
       "  </tbody>\n",
       "</table>\n",
       "<p>5 rows × 62 columns</p>\n",
       "</div>"
      ],
      "text/plain": [
       "                                                 url  timedelta  \\\n",
       "0  http://mashable.com/2013/01/07/amazon-instant-...        731   \n",
       "1  http://mashable.com/2013/01/07/ap-samsung-spon...        731   \n",
       "2  http://mashable.com/2013/01/07/apple-40-billio...        731   \n",
       "3  http://mashable.com/2013/01/07/astronaut-notre...        731   \n",
       "4   http://mashable.com/2013/01/07/att-u-verse-apps/        731   \n",
       "\n",
       "   n_tokens_title  n_tokens_content  n_unique_tokens  n_non_stop_words  \\\n",
       "0              12               219         0.663594               1.0   \n",
       "1               9               255         0.604743               1.0   \n",
       "2               9               211         0.575130               1.0   \n",
       "3               9               531         0.503788               1.0   \n",
       "4              13              1072         0.415646               1.0   \n",
       "\n",
       "   n_non_stop_unique_tokens  num_hrefs  num_self_hrefs  num_imgs  ...  \\\n",
       "0                  0.815385          4               2         1  ...   \n",
       "1                  0.791946          3               1         1  ...   \n",
       "2                  0.663866          3               1         1  ...   \n",
       "3                  0.665635          9               0         1  ...   \n",
       "4                  0.540890         19              19        20  ...   \n",
       "\n",
       "   max_positive_polarity  avg_negative_polarity  min_negative_polarity  \\\n",
       "0                    0.7              -0.350000                 -0.600   \n",
       "1                    0.7              -0.118750                 -0.125   \n",
       "2                    1.0              -0.466667                 -0.800   \n",
       "3                    0.8              -0.369697                 -0.600   \n",
       "4                    1.0              -0.220192                 -0.500   \n",
       "\n",
       "   max_negative_polarity  title_subjectivity  title_sentiment_polarity  \\\n",
       "0              -0.200000            0.500000                 -0.187500   \n",
       "1              -0.100000            0.000000                  0.000000   \n",
       "2              -0.133333            0.000000                  0.000000   \n",
       "3              -0.166667            0.000000                  0.000000   \n",
       "4              -0.050000            0.454545                  0.136364   \n",
       "\n",
       "   abs_title_subjectivity  abs_title_sentiment_polarity  shares  popularity  \n",
       "0                0.000000                      0.187500     593   unpopular  \n",
       "1                0.500000                      0.000000     711   unpopular  \n",
       "2                0.500000                      0.000000    1500     popular  \n",
       "3                0.500000                      0.000000    1200   unpopular  \n",
       "4                0.045455                      0.136364     505   unpopular  \n",
       "\n",
       "[5 rows x 62 columns]"
      ]
     },
     "execution_count": 15,
     "metadata": {},
     "output_type": "execute_result"
    }
   ],
   "source": [
    "dataset1.head()"
   ]
  },
  {
   "cell_type": "code",
   "execution_count": 19,
   "metadata": {},
   "outputs": [
    {
     "data": {
      "text/plain": [
       "array([[ 1.20000000e+01,  2.19000000e+02,  6.63594467e-01, ...,\n",
       "        -1.87500000e-01,  0.00000000e+00,  1.87500000e-01],\n",
       "       [ 9.00000000e+00,  2.55000000e+02,  6.04743081e-01, ...,\n",
       "         0.00000000e+00,  5.00000000e-01,  0.00000000e+00],\n",
       "       [ 9.00000000e+00,  2.11000000e+02,  5.75129531e-01, ...,\n",
       "         0.00000000e+00,  5.00000000e-01,  0.00000000e+00],\n",
       "       ...,\n",
       "       [ 1.00000000e+01,  4.42000000e+02,  5.16355139e-01, ...,\n",
       "         1.36363636e-01,  4.54545450e-02,  1.36363636e-01],\n",
       "       [ 6.00000000e+00,  6.82000000e+02,  5.39493293e-01, ...,\n",
       "         0.00000000e+00,  5.00000000e-01,  0.00000000e+00],\n",
       "       [ 1.00000000e+01,  1.57000000e+02,  7.01986750e-01, ...,\n",
       "         2.50000000e-01,  1.66666667e-01,  2.50000000e-01]])"
      ]
     },
     "execution_count": 19,
     "metadata": {},
     "output_type": "execute_result"
    }
   ],
   "source": [
    "# separate the dependent and independent attributes.\n",
    "x = dataset1.iloc[:,2:-2].values\n",
    "x"
   ]
  },
  {
   "cell_type": "code",
   "execution_count": 20,
   "metadata": {},
   "outputs": [
    {
     "data": {
      "text/plain": [
       "array(['unpopular', 'unpopular', 'popular', ..., 'popular', 'unpopular',\n",
       "       'unpopular'], dtype=object)"
      ]
     },
     "execution_count": 20,
     "metadata": {},
     "output_type": "execute_result"
    }
   ],
   "source": [
    "y = dataset1.iloc[:, -1].values\n",
    "y"
   ]
  },
  {
   "cell_type": "code",
   "execution_count": 22,
   "metadata": {},
   "outputs": [],
   "source": [
    "x_train,x_test,y_train,y_test = train_test_split(x,y,test_size = 0.2,random_state = 0)"
   ]
  },
  {
   "cell_type": "code",
   "execution_count": 23,
   "metadata": {},
   "outputs": [],
   "source": [
    "# model initialization\n",
    "knn = KNeighborsClassifier(n_neighbors = 3) \n",
    "knn.fit(x_train,y_train)\n",
    "y_pred = knn.predict(x_test)"
   ]
  },
  {
   "cell_type": "code",
   "execution_count": 24,
   "metadata": {},
   "outputs": [
    {
     "data": {
      "text/plain": [
       "1"
      ]
     },
     "execution_count": 24,
     "metadata": {},
     "output_type": "execute_result"
    }
   ],
   "source": [
    "ls = [y_test != y_pred]\n",
    "len(ls) # number of mis-classification."
   ]
  },
  {
   "cell_type": "markdown",
   "metadata": {},
   "source": [
    "### According to the confusion matrix gotten by comparing the predicted classes to the test classes,This gives an accuracy of 57.611%."
   ]
  },
  {
   "cell_type": "code",
   "execution_count": 25,
   "metadata": {},
   "outputs": [
    {
     "name": "stdout",
     "output_type": "stream",
     "text": [
      "KNN score = 57.61130029007441\n"
     ]
    }
   ],
   "source": [
    "# to find the accuracy score in terms of %\n",
    "\n",
    "print(\"KNN score =\",knn.score(x_test,y_test)*100)"
   ]
  },
  {
   "cell_type": "code",
   "execution_count": 27,
   "metadata": {},
   "outputs": [
    {
     "name": "stdout",
     "output_type": "stream",
     "text": [
      "accuracy = 0.5761130029007441\n"
     ]
    }
   ],
   "source": [
    "# alternatively\n",
    "\n",
    "from sklearn import metrics\n",
    "\n",
    "print(\"accuracy =\",metrics.accuracy_score(y_test,y_pred))"
   ]
  },
  {
   "cell_type": "code",
   "execution_count": 28,
   "metadata": {},
   "outputs": [
    {
     "name": "stdout",
     "output_type": "stream",
     "text": [
      "confusion matrix is:\n",
      "[[2556 1634]\n",
      " [1727 2012]]\n"
     ]
    }
   ],
   "source": [
    "# compute confusion matrix\n",
    "\n",
    "labels = ['popular','unpopular']\n",
    "cm = confusion_matrix(y_test,y_pred,labels)\n",
    "print(\"confusion matrix is:\",cm,sep = '\\n')\n",
    "\n",
    "# columns = predicted class\n",
    "# rows = actual class"
   ]
  },
  {
   "cell_type": "code",
   "execution_count": 30,
   "metadata": {},
   "outputs": [
    {
     "name": "stdout",
     "output_type": "stream",
     "text": [
      "label precision recall\n",
      "    0     0.597  0.610\n",
      "    1     0.552  0.538\n"
     ]
    }
   ],
   "source": [
    "def precision(label,confusion_matrix):\n",
    "    col = confusion_matrix[:,label]\n",
    "    return confusion_matrix[label,label] / col.sum()\n",
    "\n",
    "def recall(label,confusion_matrix):\n",
    "    row = confusion_matrix[label,:]\n",
    "    return confusion_matrix[label,label] / row.sum()\n",
    "\n",
    "print(\"label precision recall\")\n",
    "for label in range(0,2):\n",
    "    print(f\"{label : 5d} {precision(label,cm) : 9.3f} {recall(label,cm) : 6.3f}\")"
   ]
  },
  {
   "cell_type": "code",
   "execution_count": 31,
   "metadata": {},
   "outputs": [],
   "source": [
    "k_list = [i for i in range(1,30)]"
   ]
  },
  {
   "cell_type": "code",
   "execution_count": 38,
   "metadata": {},
   "outputs": [],
   "source": [
    "mis_class = []\n",
    "for i in k_list:\n",
    "    knn = KNeighborsClassifier(n_neighbors = i) \n",
    "    knn.fit(x_train,y_train)\n",
    "    y_pred = knn.predict(x_test)\n",
    "    cm = confusion_matrix(y_test,y_pred)\n",
    "    mis_class.append(np.mean(y_pred != y_test)) "
   ]
  },
  {
   "cell_type": "code",
   "execution_count": 39,
   "metadata": {},
   "outputs": [
    {
     "name": "stdout",
     "output_type": "stream",
     "text": [
      "[0.442804893429184, 0.43271534871988904, 0.42388699709925587, 0.4141758103165595, 0.4193467019800731, 0.4135452137722285, 0.41707655442048175, 0.41657207718501704, 0.4136713330810947, 0.40257283390087023, 0.4052213393870602, 0.40534745869592637, 0.40736536763778536, 0.4037079076806659, 0.4068608904023206, 0.4013116408122083, 0.4057258166225249, 0.40244671459200404, 0.40623029385798964, 0.4015638794299407, 0.4015638794299407, 0.4000504477235465, 0.3997982091058141, 0.3999243284146803, 0.3996720897969479, 0.39828477739941986, 0.39866313532601844, 0.3958885105309623, 0.4000504477235465]\n"
     ]
    }
   ],
   "source": [
    "print(mis_class)"
   ]
  },
  {
   "cell_type": "code",
   "execution_count": 40,
   "metadata": {},
   "outputs": [
    {
     "data": {
      "text/plain": [
       "Text(0, 0.5, 'total error')"
      ]
     },
     "execution_count": 40,
     "metadata": {},
     "output_type": "execute_result"
    },
    {
     "data": {
      "image/png": "[encoded data removed]",
      "text/plain": [
       "<Figure size 432x288 with 1 Axes>"
      ]
     },
     "metadata": {
      "needs_background": "light"
     },
     "output_type": "display_data"
    }
   ],
   "source": [
    "plt.plot(k_list,mis_class,color = 'red',linestyle = 'dashed',marker = 'o',markerfacecolor = 'blue',markersize = 5)\n",
    "plt.title('k value v/s error rate')\n",
    "plt.xlabel('k value')\n",
    "plt.ylabel('total error') "
   ]
  },
  {
   "cell_type": "markdown",
   "metadata": {},
   "source": [
    "##### from the output,we can see that the error decreases if we increase k"
   ]
  },
  {
   "cell_type": "code",
   "execution_count": null,
   "metadata": {},
   "outputs": [],
   "source": []
  }
 ],
 "metadata": {
  "kernelspec": {
   "display_name": "Python 3",
   "language": "python",
   "name": "python3"
  },
  "language_info": {
   "codemirror_mode": {
    "name": "ipython",
    "version": 3
   },
   "file_extension": ".py",
   "mimetype": "text/x-python",
   "name": "python",
   "nbconvert_exporter": "python",
   "pygments_lexer": "ipython3",
   "version": "3.7.3"
  }
 },
 "nbformat": 4,
 "nbformat_minor": 2
}
